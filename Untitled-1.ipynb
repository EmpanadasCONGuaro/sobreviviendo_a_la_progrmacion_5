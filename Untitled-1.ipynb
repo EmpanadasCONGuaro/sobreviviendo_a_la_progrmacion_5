{
 "cells": [
  {
   "cell_type": "code",
   "execution_count": null,
   "metadata": {},
   "outputs": [],
   "source": [
    "x: int =0\n",
    "while (x <=100):\n",
    "    ElCuadrado= x**2\n",
    "    print(x, ElCuadrado, sep = \" , \")\n",
    "    x +=1"
   ]
  }
 ],
 "metadata": {
  "kernelspec": {
   "display_name": "Python 3",
   "language": "python",
   "name": "python3"
  },
  "language_info": {
   "name": "python",
   "version": "3.11.5"
  }
 },
 "nbformat": 4,
 "nbformat_minor": 2
}
