{
 "cells": [
  {
   "cell_type": "code",
   "execution_count": null,
   "metadata": {},
   "outputs": [],
   "source": [
    "x: int =0\n",
    "while (x <=100):\n",
    "    ElCuadrado= x**2\n",
    "    print(x, ElCuadrado, sep = \" , \")\n",
    "    x +=1"
   ]
  },
  {
   "cell_type": "code",
   "execution_count": null,
   "metadata": {},
   "outputs": [],
   "source": [
    "i:int=0\n",
    "print(\"lista de impares\")\n",
    "while i <= 999:\n",
    "    i=i+1\n",
    "    if i % 2  == 0:\n",
    "      continue\n",
    "    print(i)\n",
    "    \n",
    "\n",
    "print(\"lista de pares\")\n",
    "i:int=0\n",
    "while i <= 1000:\n",
    "    i=i+1\n",
    "    if i % 2 != 0:\n",
    "      continue\n",
    "    print(i)\n",
    "    \n"
   ]
  },
  {
   "cell_type": "code",
   "execution_count": null,
   "metadata": {},
   "outputs": [],
   "source": [
    "i: int= 0\n",
    "i: int= int(input(\"ingrese un numero:\"))\n",
    "print(i)\n",
    "while i >= 2:\n",
    "    i -= 1\n",
    "    if i%2 !=0:\n",
    "        continue\n",
    "    print(i)\n"
   ]
  },
  {
   "cell_type": "code",
   "execution_count": null,
   "metadata": {},
   "outputs": [],
   "source": [
    "A: int = 25000000\n",
    "TasaDeCrecimeintoA:float=0.02\n",
    "B: int = 18500000\n",
    "TasaDeCrecimeintoB:float=0.03\n",
    "Año: int= 2022\n",
    "\n",
    "while B <= A:\n",
    "    A= A*(1+ TasaDeCrecimeintoA)\n",
    "    B= B*(1+ TasaDeCrecimeintoB)\n",
    "    Año += 1\n",
    "print(\"el año en el que el pais B supera al pais A es \" +str(Año))\n"
   ]
  },
  {
   "cell_type": "code",
   "execution_count": null,
   "metadata": {},
   "outputs": [],
   "source": [
    "n = int(input(\"ingrese un numero:\"))\n",
    "factorial = 1\n",
    "while 0 < n:\n",
    "  factorial *= n\n",
    "  n -= 1\n",
    "\n",
    "print(\"El factorial es \"  +str(factorial))"
   ]
  },
  {
   "cell_type": "code",
   "execution_count": null,
   "metadata": {},
   "outputs": [],
   "source": [
    "import random \n",
    "NumeroMenor = 1\n",
    "NumeroMayor = 100\n",
    "bandera : bool = True\n",
    "while bandera == True:\n",
    "  NumeroRandom=random.randint(NumeroMenor, NumeroMayor)\n",
    "  Adivinanza = input(\"El número es mayor, menor, o igual que: \" + str(NumeroRandom) + \" \")\n",
    "  if Adivinanza == \"mayor\":\n",
    "    NumeroMenor = NumeroRandom + 1\n",
    "  elif Adivinanza ==\"menor\":\n",
    "    NumeroMayor = NumeroRandom - 1\n",
    "  else:\n",
    "    break\n",
    "print(\"El número es: \" + str(NumeroRandom))  "
   ]
  },
  {
   "cell_type": "code",
   "execution_count": null,
   "metadata": {},
   "outputs": [],
   "source": [
    "x= int(input(\"ingrese un numero entre 2 y 50:\"))\n",
    "\n",
    "if 50 >= x >= 2:\n",
    "    print(\"los divisores enteros de \" +str(x)+ \" son:\")\n",
    "    y=1\n",
    "    while y <= x:\n",
    "        if x%y==0:\n",
    "            print(y)\n",
    "        y += 1\n"
   ]
  }
 ],
 "metadata": {
  "kernelspec": {
   "display_name": "Python 3",
   "language": "python",
   "name": "python3"
  },
  "language_info": {
   "name": "python",
   "version": "3.11.5"
  }
 },
 "nbformat": 4,
 "nbformat_minor": 2
}
